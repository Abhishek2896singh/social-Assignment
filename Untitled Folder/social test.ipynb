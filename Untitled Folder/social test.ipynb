{
 "cells": [
  {
   "cell_type": "code",
   "execution_count": null,
   "metadata": {},
   "outputs": [],
   "source": [
    "# Write a Python program to read a file line by line and store it into a list.\n",
    "with open(\"test.txt\") as f:\n",
    "    list = f.readlines()\n",
    "list = [x.strip() for x in list]\n",
    "print(list)"
   ]
  },
  {
   "cell_type": "code",
   "execution_count": null,
   "metadata": {},
   "outputs": [],
   "source": [
    "# Write a Python program to calculate the number of days between two dates.\n",
    "Sample dates\n",
    "import datetime\n",
    "date1=input(\"enter a first date in format y/m/d\")\n",
    "date2=input(\"enter a second date in format y/m/d\")\n",
    "date1List=date1.split(\"/\")\n",
    "date2List=date2.split(\"/\")\n",
    "date1=datetime.date(int(date1List[0]),\n",
    "                   int(date1List[1]),\n",
    "                   int(date1List[2]))\n",
    "date2=datetime.date(int(date2List[0]),\n",
    "                   int(date2List[1]),\n",
    "                   int(date2List[2]))\n",
    "if(date1>date2):\n",
    "    difference=(date1-date2).days\n",
    "else:\n",
    "    difference=(date2-date1).days\n",
    "print(difference,\"days\")"
   ]
  },
  {
   "cell_type": "code",
   "execution_count": null,
   "metadata": {},
   "outputs": [],
   "source": [
    "# Write a Python program to convert the Python dictionary object (sort by key) to\n",
    "# JSON data. Print the object members with indent level 4.\n",
    "import json\n",
    "j_str = {'4': 5, '6': 7, '1': 3, '2': 4}\n",
    "print(\"Original String:\",j_str)\n",
    "print(\"\\nJSON data:\",json.dumps(j_str, sort_keys=True, indent=4))"
   ]
  },
  {
   "cell_type": "code",
   "execution_count": null,
   "metadata": {},
   "outputs": [],
   "source": [
    "# Write a Python program to sort a list of dictionaries using Lambda.\n",
    "lis=[{'make': 'Nokia', 'model': 216, 'color': 'Black'},\n",
    " {'make': 'Mi Max', 'model': '2','color': 'Gold'}, \n",
    " {'make': 'Samsung', 'model': 7, 'color': 'Blue'}]\n",
    "print(sorted(lis, key = lambda i: (i['color'])))\n"
   ]
  },
  {
   "cell_type": "code",
   "execution_count": null,
   "metadata": {},
   "outputs": [],
   "source": [
    "# Write a Python program that takes a text file as input and returns the number of\n",
    "# words of a given text file.\n",
    "def count_words(filepath):\n",
    "   with open(filepath) as f:\n",
    "       data = f.read()\n",
    "       data.replace(\",\", \" \")\n",
    "       return len(data.split(\" \"))\n",
    "print(count_words(\"test1.txt\"))\n"
   ]
  },
  {
   "cell_type": "code",
   "execution_count": null,
   "metadata": {},
   "outputs": [],
   "source": [
    "# Write a Python program to convert an array to an array of machine values and\n",
    "# return the bytes representation.\n",
    "from array import *\n",
    "print(\"Bytes to String: \")\n",
    "x = array('i', [1, 2, 3, 4, 5, 6])\n",
    "s = x.tobytes()\n",
    "print(s)\n"
   ]
  },
  {
   "cell_type": "code",
   "execution_count": null,
   "metadata": {},
   "outputs": [],
   "source": [
    "# Script to ping and check whether any given IPs are active, also whether given set of\n",
    "# software are installed in the existing system ( like java, kubectl, aws etc)  \n",
    "import sh    \n",
    "  \n",
    "for num in range(10,40):  \n",
    "    ip = \"192.168.0.\"+str(num)  \n",
    "    try:  \n",
    "        sh.ping(ip, \"-c 1\",_out=\"/dev/null\")  \n",
    "        print(\"PING \",ip , \"OK\")  \n",
    "    except sh.ErrorReturnCode_1:  \n",
    "        print(\"PING\", ip, \"FAILED\")"
   ]
  },
  {
   "cell_type": "code",
   "execution_count": null,
   "metadata": {},
   "outputs": [],
   "source": [
    "# Program to Generate random logs and write in a file , once the file size reaches 2Mb\n",
    "# open new file and continue writing\n",
    "import os \n",
    "file_number = 0 \n",
    "file_size = 0 \n",
    "while True: \n",
    " if file_size < 2e+6: \n",
    "   try: \n",
    "     file = open('test2%d.txt'%file_number, 'x') \n",
    "   except: \n",
    "      pass \n",
    "   file = open('test2%d.txt'%file_number) \n",
    "   text = file.read() + '<text_to_be_written>' \n",
    "   file = open('test2%d.txt'%file_number, 'w') \n",
    "   file.write(text) \n",
    " file_size = os.stat('test2%d.txt'%file_number) .st_size \n",
    " if file_size > 2e+6: \n",
    "   file_number += 1 \n",
    "   file_size = 0 "
   ]
  },
  {
   "cell_type": "code",
   "execution_count": null,
   "metadata": {},
   "outputs": [],
   "source": []
  }
 ],
 "metadata": {
  "kernelspec": {
   "display_name": "Python 3",
   "language": "python",
   "name": "python3"
  },
  "language_info": {
   "codemirror_mode": {
    "name": "ipython",
    "version": 3
   },
   "file_extension": ".py",
   "mimetype": "text/x-python",
   "name": "python",
   "nbconvert_exporter": "python",
   "pygments_lexer": "ipython3",
   "version": "3.7.3"
  }
 },
 "nbformat": 4,
 "nbformat_minor": 2
}
